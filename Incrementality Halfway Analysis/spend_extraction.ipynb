{
 "cells": [
  {
   "cell_type": "code",
   "execution_count": null,
   "metadata": {},
   "outputs": [],
   "source": [
    "import pandas as pd\n",
    "import numpy as np"
   ]
  },
  {
   "cell_type": "markdown",
   "metadata": {},
   "source": [
    "<h2>Bing</h2>"
   ]
  },
  {
   "cell_type": "code",
   "execution_count": null,
   "metadata": {},
   "outputs": [],
   "source": [
    "bing_df = pd.read_csv('/Users/jacob.perius/psa_segment_testing/Incrementality Halfway Analysis/data/ENV _ PSA _ Bing Ads _ Cleaned Basic Metrics.csv', low_memory=False)\n",
    "\n",
    "bing_df.head()"
   ]
  },
  {
   "cell_type": "code",
   "execution_count": null,
   "metadata": {},
   "outputs": [],
   "source": [
    "bing_df['Date'] = pd.to_datetime(bing_df['Date'])\n",
    "\n",
    "basic_metrics_df = bing_df.groupby(['CampaignName', 'Date']).sum().reset_index()[['CampaignName', 'Date', 'Impressions', 'Clicks', 'Spend', 'Online Submissions']]\n",
    "basic_metrics_df.head()"
   ]
  },
  {
   "cell_type": "code",
   "execution_count": null,
   "metadata": {},
   "outputs": [],
   "source": [
    "bing_df = bing_df[~bing_df['CampaignName'].str.contains('Incrementality|YouTube|Collectors|Specials|CC|Events', na=False)]\n",
    "\n",
    "bing_df['CampaignName'].unique()"
   ]
  },
  {
   "cell_type": "code",
   "execution_count": null,
   "metadata": {},
   "outputs": [],
   "source": [
    "bing_spend_df = bing_df.groupby('Date').sum().reset_index()[['Date', 'Spend']]\n",
    "bing_spend_df = bing_spend_df.rename({'Spend': 'Bing Spend'}, axis=1)\n",
    "\n",
    "bing_spend_df"
   ]
  },
  {
   "cell_type": "code",
   "execution_count": null,
   "metadata": {},
   "outputs": [],
   "source": [
    "import seaborn as sns\n",
    "import matplotlib.pyplot as plt\n",
    "\n",
    "sns.histplot(bing_spend_df['Bing Spend'], bins=20)"
   ]
  },
  {
   "cell_type": "markdown",
   "metadata": {},
   "source": [
    "<h2>Google</h2>"
   ]
  },
  {
   "cell_type": "code",
   "execution_count": null,
   "metadata": {},
   "outputs": [],
   "source": [
    "google_df = pd.read_csv('/Users/jacob.perius/psa_segment_testing/Incrementality Halfway Analysis/data/ENV _ Google Ads _ PSA _ Conversions Breakout _ Cleaned.csv')\n",
    "\n",
    "print(google_df.columns)\n",
    "google_df"
   ]
  },
  {
   "cell_type": "code",
   "execution_count": null,
   "metadata": {},
   "outputs": [],
   "source": [
    "google_df['Date'] = pd.to_datetime(google_df['Date'])\n",
    "\n",
    "grouped_google = google_df.groupby(['Campaign Name', 'Date']).sum().reset_index()[['Campaign Name', 'Date', 'Impressions', 'Clicks','Cost']]\n",
    "grouped_google.head()"
   ]
  },
  {
   "cell_type": "code",
   "execution_count": null,
   "metadata": {},
   "outputs": [],
   "source": [
    "grouped_google = grouped_google[~grouped_google['Campaign Name'].str.contains('Incrementality|YouTube|Collectors|Specials|CC|Events', na=False)]\n",
    "\n",
    "grouped_google['Campaign Name'].unique()"
   ]
  },
  {
   "cell_type": "code",
   "execution_count": null,
   "metadata": {},
   "outputs": [],
   "source": [
    "google_spend_df = grouped_google.groupby('Date').sum().reset_index()[['Date', 'Cost']]\n",
    "google_spend_df = google_spend_df.rename({'Cost': 'Google Spend'}, axis=1)\n",
    "\n",
    "google_spend_df"
   ]
  },
  {
   "cell_type": "code",
   "execution_count": null,
   "metadata": {},
   "outputs": [],
   "source": [
    "sns.histplot(google_spend_df['Google Spend'], bins=20)"
   ]
  },
  {
   "cell_type": "markdown",
   "metadata": {},
   "source": [
    "<h2>Meta</h2>"
   ]
  },
  {
   "cell_type": "code",
   "execution_count": null,
   "metadata": {},
   "outputs": [],
   "source": [
    "meta_df = pd.read_csv('/Users/jacob.perius/psa_segment_testing/Incrementality Halfway Analysis/data/ENV _ PSA _ Facebook Ads _ Reporting Cleaned.csv')\n",
    "\n",
    "print(meta_df.columns)\n",
    "meta_df.head()"
   ]
  },
  {
   "cell_type": "code",
   "execution_count": null,
   "metadata": {},
   "outputs": [],
   "source": [
    "meta_df = meta_df[~meta_df['CampaignName'].str.contains('Incrementality|Collectors|Specials|Special|CC|Events|Event', na=False)]\n",
    "meta_df = meta_df[~meta_df['AdsetName'].str.contains('Incrementality|Collectors|Specials|Special|CC|Events|Event', na=False)]\n",
    "\n",
    "print(meta_df['CampaignName'].unique())\n",
    "print(meta_df['AdsetName'].unique())"
   ]
  },
  {
   "cell_type": "code",
   "execution_count": null,
   "metadata": {},
   "outputs": [],
   "source": [
    "meta_df = meta_df[~meta_df['CampaignName'].isin(['ENV - PSA_Facebook_Bridgeport_Hobby_Chicago_July23', 'ENV_PSA_COMC_Co-Brand_July23', 'ENV - PSA_Facebook_Prospecting_General_Super Express*'])]"
   ]
  },
  {
   "cell_type": "code",
   "execution_count": null,
   "metadata": {},
   "outputs": [],
   "source": [
    "meta_df['DateStart'] = pd.to_datetime(meta_df['DateStart'])\n",
    "\n",
    "meta_spend_df = meta_df.groupby(['DateStart']).sum().reset_index()[['DateStart', 'Spend']]\n",
    "meta_spend_df = meta_spend_df.rename({'Spend': 'Meta Spend', 'DateStart': 'Date'}, axis=1)\n",
    "\n",
    "meta_spend_df.head()"
   ]
  },
  {
   "cell_type": "code",
   "execution_count": null,
   "metadata": {},
   "outputs": [],
   "source": [
    "sns.histplot(meta_spend_df['Meta Spend'], bins=20)"
   ]
  },
  {
   "cell_type": "markdown",
   "metadata": {},
   "source": [
    "<h2>Reddit</h2>"
   ]
  },
  {
   "cell_type": "code",
   "execution_count": null,
   "metadata": {},
   "outputs": [],
   "source": [
    "reddit_df = pd.read_csv('/Users/jacob.perius/psa_segment_testing/Incrementality Halfway Analysis/data/ENV - PSA - Reddit Ads - Cleaned.csv')\n",
    "\n",
    "print(reddit_df.columns)\n",
    "reddit_df.head()"
   ]
  },
  {
   "cell_type": "code",
   "execution_count": null,
   "metadata": {},
   "outputs": [],
   "source": [
    "reddit_spend_df = reddit_df.groupby('date').sum().reset_index()[['date', 'Cost']]\n",
    "reddit_spend_df = reddit_spend_df.rename({'Cost': 'Reddit Spend', 'date': 'Date'}, axis=1)\n",
    "\n",
    "reddit_spend_df['Date'] = pd.to_datetime(reddit_spend_df['Date'])\n",
    "\n",
    "reddit_spend_df"
   ]
  },
  {
   "cell_type": "code",
   "execution_count": null,
   "metadata": {},
   "outputs": [],
   "source": [
    "sns.histplot(reddit_spend_df['Reddit Spend'], bins=20)"
   ]
  },
  {
   "cell_type": "markdown",
   "metadata": {},
   "source": [
    "<h2>Snapchat</h2>"
   ]
  },
  {
   "cell_type": "code",
   "execution_count": null,
   "metadata": {},
   "outputs": [],
   "source": [
    "snap_df = pd.read_csv('/Users/jacob.perius/psa_segment_testing/Incrementality Halfway Analysis/data/ENV - PSA - SnapChat - Manual.csv')\n",
    "\n",
    "print(snap_df.columns)\n",
    "snap_df.head()"
   ]
  },
  {
   "cell_type": "code",
   "execution_count": null,
   "metadata": {},
   "outputs": [],
   "source": [
    "snap_df = snap_df[~snap_df['Campaign Name'].str.contains('Incrementality', na=False)]\n",
    "\n",
    "snap_df['Date'] = pd.to_datetime(snap_df['Date'])\n",
    "\n",
    "snap_spend_df = snap_df.groupby(['Date']).sum().reset_index()[['Date', 'Cost']]\n",
    "snap_spend_df = snap_spend_df.rename({'Cost': 'Snapchat Spend'}, axis=1)\n",
    "\n",
    "snap_spend_df.head()"
   ]
  },
  {
   "cell_type": "code",
   "execution_count": null,
   "metadata": {},
   "outputs": [],
   "source": [
    "sns.histplot(snap_spend_df['Snapchat Spend'], bins=20)"
   ]
  },
  {
   "cell_type": "markdown",
   "metadata": {},
   "source": [
    "<h2>StackAdapt</h2>"
   ]
  },
  {
   "cell_type": "code",
   "execution_count": null,
   "metadata": {},
   "outputs": [],
   "source": [
    "stack_df = pd.read_csv('/Users/jacob.perius/psa_segment_testing/Incrementality Halfway Analysis/data/ENV - PSA - StackAdapt - All Data With Creative Cleaned.csv')\n",
    "\n",
    "print(stack_df.columns)\n",
    "stack_df.head()"
   ]
  },
  {
   "cell_type": "code",
   "execution_count": null,
   "metadata": {},
   "outputs": [],
   "source": [
    "stack_df['Channel Type'] = stack_df['Channel Type'].str.lower()\n",
    "stack_df = stack_df[~stack_df['Channel Type'].str.contains('dooh|ctv')]\n",
    "\n",
    "stack_df['Date'] = pd.to_datetime(stack_df['Date'])\n",
    "\n",
    "stack_spend_df = stack_df.groupby(['Date']).sum().reset_index()[['Date', 'Media Cost']]\n",
    "stack_spend_df = stack_spend_df.rename({'Media Cost': 'StackAdapt Spend'}, axis=1)\n",
    "\n",
    "stack_spend_df.head()"
   ]
  },
  {
   "cell_type": "code",
   "execution_count": null,
   "metadata": {},
   "outputs": [],
   "source": [
    "sns.histplot(stack_spend_df['StackAdapt Spend'], bins=20)"
   ]
  },
  {
   "cell_type": "markdown",
   "metadata": {},
   "source": [
    "<h2>TikTok</h2>"
   ]
  },
  {
   "cell_type": "code",
   "execution_count": null,
   "metadata": {},
   "outputs": [],
   "source": [
    "tiktok_df = pd.read_csv('/Users/jacob.perius/psa_segment_testing/Incrementality Halfway Analysis/data/ENV _ PSA _ TikTok Ads _ Cleaned 2.csv')\n",
    "\n",
    "print(tiktok_df.columns)\n",
    "tiktok_df.head()"
   ]
  },
  {
   "cell_type": "code",
   "execution_count": null,
   "metadata": {},
   "outputs": [],
   "source": [
    "tiktok_df = tiktok_df [~tiktok_df ['campaign_name'].str.contains('Incrementality|Collectors|Specials|Special|CC|Events|Event|Link Testing|Fall Question', na=False)]\n",
    "tiktok_df.rename(columns={'metrics_spend': 'Tiktok Spend', 'dimensions_stat_time_day': 'Date'}, inplace=True)\n",
    "tiktok_df['Date'] = pd.to_datetime(tiktok_df['Date'])\n",
    "\n",
    "tiktok_spend_df = tiktok_df.groupby(['Date']).sum().reset_index()[['Date', 'Tiktok Spend']]\n",
    "\n",
    "tiktok_spend_df.head()"
   ]
  },
  {
   "cell_type": "code",
   "execution_count": null,
   "metadata": {},
   "outputs": [],
   "source": [
    "sns.histplot(tiktok_spend_df['Tiktok Spend'], bins=20)"
   ]
  },
  {
   "cell_type": "code",
   "execution_count": null,
   "metadata": {},
   "outputs": [],
   "source": [
    "merged_df = pd.merge(bing_spend_df, google_spend_df, on='Date', how='outer')\n",
    "merged_df = pd.merge(merged_df, meta_spend_df, on='Date', how='outer')\n",
    "merged_df = pd.merge(merged_df, reddit_spend_df, on='Date', how='outer')\n",
    "merged_df = pd.merge(merged_df, snap_spend_df, on='Date', how='outer')\n",
    "merged_df = pd.merge(merged_df, stack_spend_df, on='Date', how='outer')\n",
    "merged_df = pd.merge(merged_df, tiktok_spend_df, on='Date', how='outer')\n",
    "\n",
    "merged_df = merged_df.fillna(0)\n",
    "\n",
    "merged_df.head()"
   ]
  },
  {
   "cell_type": "code",
   "execution_count": null,
   "metadata": {},
   "outputs": [],
   "source": [
    "merged_df.to_csv('/Users/jacob.perius/psa_segment_testing/Incrementality Halfway Analysis/data/ad_platform_spend.csv', index=False)"
   ]
  }
 ],
 "metadata": {
  "kernelspec": {
   "display_name": "psa_segment_test_pymc",
   "language": "python",
   "name": "python3"
  },
  "language_info": {
   "codemirror_mode": {
    "name": "ipython",
    "version": 3
   },
   "file_extension": ".py",
   "mimetype": "text/x-python",
   "name": "python",
   "nbconvert_exporter": "python",
   "pygments_lexer": "ipython3",
   "version": "3.12.7"
  }
 },
 "nbformat": 4,
 "nbformat_minor": 2
}
