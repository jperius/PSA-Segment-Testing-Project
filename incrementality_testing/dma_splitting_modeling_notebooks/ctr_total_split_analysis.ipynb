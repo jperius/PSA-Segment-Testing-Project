{
 "cells": [
  {
   "cell_type": "code",
   "execution_count": null,
   "metadata": {},
   "outputs": [],
   "source": [
    "import pandas as pd\n",
    "import numpy as np\n",
    "\n",
    "df_for_revenue = pd.read_csv('/Users/jacob.perius/psa_segment_testing/incrementality_testing/final_groups/final_assignments.csv')\n",
    "df_for_revenue"
   ]
  },
  {
   "cell_type": "code",
   "execution_count": null,
   "metadata": {},
   "outputs": [],
   "source": [
    "dma_df = pd.read_csv('/Users/jacob.perius/psa_segment_testing/incrementality_testing/data/ENV _ Census _ ZIP to DMA.csv')\n",
    "\n",
    "dma_df.head(5)"
   ]
  },
  {
   "cell_type": "code",
   "execution_count": null,
   "metadata": {},
   "outputs": [],
   "source": [
    "dma_df['zip_code'] = dma_df['zip_code'].astype('str').str.zfill(5)"
   ]
  },
  {
   "cell_type": "code",
   "execution_count": null,
   "metadata": {},
   "outputs": [],
   "source": [
    "google_df = pd.read_csv('/Users/jacob.perius/psa_segment_testing/incrementality_testing/data/google_ads_dma_features.csv', low_memory=False)\n",
    "\n",
    "google_df.head(70)"
   ]
  },
  {
   "cell_type": "code",
   "execution_count": null,
   "metadata": {},
   "outputs": [],
   "source": [
    "google_df['Clicks'].describe()"
   ]
  },
  {
   "cell_type": "code",
   "execution_count": null,
   "metadata": {},
   "outputs": [],
   "source": [
    "google_df['CTR'] = google_df['Clicks'].str.replace(',', '').astype('int64') / google_df['Impr.'].str.replace(',', '').astype('int64')\n",
    "\n",
    "google_df"
   ]
  },
  {
   "cell_type": "code",
   "execution_count": null,
   "metadata": {},
   "outputs": [],
   "source": [
    "import re\n",
    "\n",
    "google_df = google_df.iloc[:-6].copy()\n",
    "\n",
    "google_df.loc[:, 'zip_code'] = google_df['Matched location'].apply(lambda x: re.search(r'^\\d{5}', x).group(0))\n",
    "\n",
    "#google_df.loc[:, 'All conv. value'] = google_df['All conv. value'].str.replace(',', '').str.strip().astype('float64')\n",
    "google_df = google_df.drop('Matched location', axis=1)\n",
    "google_df"
   ]
  },
  {
   "cell_type": "code",
   "execution_count": null,
   "metadata": {},
   "outputs": [],
   "source": [
    "google_dma_df = pd.merge(google_df, dma_df, on='zip_code', how='right')[['dma_code', 'dma_description', 'All conv. value']]\n",
    "\n",
    "google_dma_df"
   ]
  },
  {
   "cell_type": "code",
   "execution_count": null,
   "metadata": {},
   "outputs": [],
   "source": [
    "grouped_google_dma_df = google_dma_df.groupby(['dma_code', 'dma_description']).mean().reset_index()\n",
    "\n",
    "grouped_google_dma_df"
   ]
  },
  {
   "cell_type": "code",
   "execution_count": null,
   "metadata": {},
   "outputs": [],
   "source": [
    "merged_df = pd.merge(df_for_revenue, grouped_google_dma_df, on=['dma_code', 'dma_description'], how='left')\n",
    "\n",
    "merged_df"
   ]
  },
  {
   "cell_type": "code",
   "execution_count": null,
   "metadata": {},
   "outputs": [],
   "source": [
    "group_a_df = merged_df[merged_df['group'] == 'Group A']\n",
    "\n",
    "print(group_a_df['CTR'].mean())\n",
    "\n",
    "group_a_df"
   ]
  },
  {
   "cell_type": "code",
   "execution_count": null,
   "metadata": {},
   "outputs": [],
   "source": [
    "group_b_df = merged_df[merged_df['group'] == 'Group B']\n",
    "\n",
    "print(group_b_df['CTR'].mean())\n",
    "\n",
    "group_b_df"
   ]
  },
  {
   "cell_type": "code",
   "execution_count": null,
   "metadata": {},
   "outputs": [],
   "source": [
    "import json\n",
    "import plotly.express as px\n",
    "\n",
    "with open('/Users/jacob.perius/psa_segment_testing/neilsen-dma-markets-albers-projection_1356.geojson', 'r') as f:\n",
    "    dma_geojson_str = f.read()\n",
    "\n",
    "# First parse to remove the outer string layer\n",
    "dma_geojson = json.loads(dma_geojson_str)\n",
    "\n",
    "# Second parse if needed (in case it's double-encoded)\n",
    "if isinstance(dma_geojson, str):\n",
    "    dma_geojson = json.loads(dma_geojson)\n",
    "\n",
    "fig = px.choropleth(\n",
    "    names_and_groups_df,\n",
    "    geojson=dma_geojson,\n",
    "    locations='dma_code',\n",
    "    color='group',\n",
    "    featureidkey='properties.dma_code',\n",
    "    color_discrete_map={\n",
    "        'Group A': 'blue',\n",
    "        'Group B': 'orange',\n",
    "        'Group C': 'green'\n",
    "    },\n",
    "    hover_data={'dma_code': True, 'dma_description': True, 'group': True}\n",
    ")\n",
    "\n",
    "fig.update_traces(marker_line_width=1, marker_opacity=1.0)\n",
    "\n",
    "fig.update_geos(\n",
    "    fitbounds=\"locations\",\n",
    "    visible=False,\n",
    ")\n",
    "fig.update_layout(margin={\"r\":0,\"t\":0,\"l\":0,\"b\":0},\n",
    "                legend_title_text='Test Group'\n",
    "                )\n",
    "\n",
    "fig.show()"
   ]
  }
 ],
 "metadata": {
  "kernelspec": {
   "display_name": "psa_segment_test_pymc",
   "language": "python",
   "name": "python3"
  },
  "language_info": {
   "codemirror_mode": {
    "name": "ipython",
    "version": 3
   },
   "file_extension": ".py",
   "mimetype": "text/x-python",
   "name": "python",
   "nbconvert_exporter": "python",
   "pygments_lexer": "ipython3",
   "version": "3.12.7"
  }
 },
 "nbformat": 4,
 "nbformat_minor": 2
}
