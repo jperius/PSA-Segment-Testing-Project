{
 "cells": [
  {
   "cell_type": "code",
   "execution_count": null,
   "metadata": {},
   "outputs": [],
   "source": [
    "import pandas as pd\n",
    "from dotenv import load_dotenv\n",
    "import matplotlib.pyplot as plt\n",
    "\n",
    "load_dotenv()\n",
    "\n",
    "df = pd.read_pickle('/Users/jacob.perius/psa_segment_testing/final_df_with_cvr.pkl')\n",
    "\n",
    "df.head(5)"
   ]
  },
  {
   "cell_type": "code",
   "execution_count": null,
   "metadata": {},
   "outputs": [],
   "source": [
    "import scipy\n",
    "import numpy as np\n",
    "import pymc as pm\n",
    "\n",
    "#np.__config__.show()\n",
    "#scipy.__config__.show()"
   ]
  },
  {
   "cell_type": "code",
   "execution_count": null,
   "metadata": {},
   "outputs": [],
   "source": [
    "feature_of_interest = 'cvr'\n",
    "\n",
    "data_a = df[df['group'] == 'group_a'][feature_of_interest]\n",
    "data_b = df[df['group'] == 'group_b'][feature_of_interest]\n",
    "data_c = df[df['group'] == 'group_c'][feature_of_interest]\n",
    "\n",
    "with pm.Model() as model:\n",
    "\n",
    "    # Priors for group means and standard deviations\n",
    "    #mu_a = pm.Normal(\"mu_a\", mu=5, sigma=1)\n",
    "    #mu_b = pm.Normal(\"mu_b\", mu=5, sigma=1)\n",
    "    #mu_c = pm.Normal(\"mu_c\", mu=5, sigma=1)\n",
    "\n",
    "    mu_a = pm.Normal(\"mu_a\", mu=0, sigma=100)\n",
    "    mu_b = pm.Normal(\"mu_b\", mu=0, sigma=100)\n",
    "    mu_c = pm.Normal(\"mu_c\", mu=0, sigma=100)\n",
    "\n",
    "    sigma_a = pm.HalfNormal(\"sigma_a\", sigma=1)\n",
    "    sigma_b = pm.HalfNormal(\"sigma_b\", sigma=1)\n",
    "    sigma_c = pm.HalfNormal(\"sigma_c\", sigma=1)\n",
    "\n",
    "    # Likelihoods for observed data\n",
    "    obs_a = pm.Normal(\"obs_a\", mu=mu_a, sigma=sigma_a, observed=data_a)\n",
    "    obs_b = pm.Normal(\"obs_b\", mu=mu_b, sigma=sigma_b, observed=data_b)\n",
    "    obs_c = pm.Normal(\"obs_c\", mu=mu_c, sigma=sigma_c, observed=data_c)\n",
    "\n",
    "    # Sampling\n",
    "    trace = pm.sample(1000, chains=4)\n",
    "\n",
    "print(trace.posterior)\n",
    "\n",
    "import seaborn as sns\n",
    "\n",
    "# Check Posterior Overlap\n",
    "#pm.plot_posterior(trace, var_names=[\"mu_a\", \"mu_b\", \"mu_c\"])\n",
    "\n",
    "mu_a_samples = trace.posterior['mu_a'].values.flatten()\n",
    "mu_b_samples = trace.posterior['mu_b'].values.flatten()\n",
    "mu_c_samples = trace.posterior['mu_c'].values.flatten()\n",
    "\n",
    "plt.figure(figsize=(10, 6))\n",
    "\n",
    "# Plot KDE for each variable with different colors\n",
    "sns.kdeplot(mu_a_samples, fill=True, alpha=0.5, label='mu_a')\n",
    "sns.kdeplot(mu_b_samples, fill=True, alpha=0.5, label='mu_b')\n",
    "sns.kdeplot(mu_c_samples, fill=True, alpha=0.5, label='mu_c')\n",
    "\n",
    "# Add labels and legend\n",
    "plt.xlabel(\"Value\")\n",
    "plt.ylabel(\"Density\")\n",
    "plt.title(\"Overlayed Posterior Distributions for mu_a, mu_b, mu_c\")\n",
    "plt.legend()\n",
    "\n",
    "plt.show()"
   ]
  }
 ],
 "metadata": {
  "kernelspec": {
   "display_name": "psa_segment_test_pymc",
   "language": "python",
   "name": "python3"
  },
  "language_info": {
   "codemirror_mode": {
    "name": "ipython",
    "version": 3
   },
   "file_extension": ".py",
   "mimetype": "text/x-python",
   "name": "python",
   "nbconvert_exporter": "python",
   "pygments_lexer": "ipython3",
   "version": "3.12.7"
  }
 },
 "nbformat": 4,
 "nbformat_minor": 2
}
